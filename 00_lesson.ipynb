{
 "cells": [
  {
   "cell_type": "markdown",
   "metadata": {},
   "source": [
    "# Lesson 1\n",
    "\n",
    "> First Lesson; Introductions and basics"
   ]
  },
  {
   "cell_type": "code",
   "execution_count": null,
   "metadata": {},
   "outputs": [],
   "source": [
    "#| default_exp lesson_1"
   ]
  },
  {
   "cell_type": "code",
   "execution_count": null,
   "metadata": {},
   "outputs": [],
   "source": [
    "#| hide\n",
    "from nbdev.showdoc import *"
   ]
  },
  {
   "cell_type": "code",
   "execution_count": null,
   "metadata": {},
   "outputs": [],
   "source": [
    "#| export\n",
    "from fastcore.test import *"
   ]
  },
  {
   "cell_type": "markdown",
   "metadata": {},
   "source": [
    "## Admin\n",
    "\n",
    "- General\n",
    "    - No Classes on 5th and 12th (Not clear which months)\n",
    "\n",
    "- Books\n",
    "    - gramm.it (already ordered)\n",
    "    - complete italian grammar (https://www.amazon.co.uk/Practice-Makes-Perfect-Complete-Italian/dp/0071603670, I think)"
   ]
  },
  {
   "cell_type": "code",
   "execution_count": null,
   "metadata": {},
   "outputs": [
    {
     "name": "stderr",
     "output_type": "stream",
     "text": [
      "A subdirectory or file audio already exists.\n",
      "A subdirectory or file audio\\letters already exists.\n"
     ]
    }
   ],
   "source": [
    "#| hide\n",
    "!mkdir audio\n",
    "!mkdir audio\\letters"
   ]
  },
  {
   "cell_type": "code",
   "execution_count": null,
   "metadata": {},
   "outputs": [],
   "source": [
    "#| export\n",
    "import gtts\n",
    "from playsound import playsound\n",
    "\n",
    "def save_text_mp3(text: str, loc: str, lang: str = \"it\"):\n",
    "    tts = gtts.gTTS(text, lang = \"it\")\n",
    "    tts.save(loc)\n",
    "    \n",
    "def say_mp3(loc: str):\n",
    "    playsound(loc)"
   ]
  },
  {
   "cell_type": "code",
   "execution_count": null,
   "metadata": {},
   "outputs": [],
   "source": [
    "#| hide\n",
    "import nbdev; nbdev.nbdev_export()"
   ]
  }
 ],
 "metadata": {
  "kernelspec": {
   "display_name": "Python 3 (ipykernel)",
   "language": "python",
   "name": "python3"
  }
 },
 "nbformat": 4,
 "nbformat_minor": 4
}
