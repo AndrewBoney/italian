{
 "cells": [
  {
   "cell_type": "code",
   "execution_count": null,
   "metadata": {},
   "outputs": [],
   "source": [
    "#| hide\n",
    "from italian.core import *"
   ]
  },
  {
   "cell_type": "markdown",
   "metadata": {},
   "source": [
    "# italian\n",
    "\n",
    "> For italian lessons"
   ]
  },
  {
   "cell_type": "markdown",
   "metadata": {},
   "source": [
    "This website documents my journey through italian lessons (specifically https://www.bristolfolkhouse.co.uk/courses/italian-beginners-entry-bl11-15198). \n",
    "\n",
    "This is partly for notetaking and partly for learning nbdev. \n",
    "\n",
    "I think at a min I'll use the markdown to take notes. I'd like to formalize further if possible; perhaps seeing patterns in the language, automating translations, perhaps audio classification. Not exactly sure yet, will see how things progress"
   ]
  },
  {
   "cell_type": "markdown",
   "metadata": {},
   "source": [
    "## Install"
   ]
  },
  {
   "cell_type": "markdown",
   "metadata": {},
   "source": [
    "```sh\n",
    "pip install italian\n",
    "```"
   ]
  },
  {
   "cell_type": "markdown",
   "metadata": {},
   "source": [
    "## How to use"
   ]
  },
  {
   "cell_type": "markdown",
   "metadata": {},
   "source": [
    "One notebook per lesson; Simples"
   ]
  }
 ],
 "metadata": {
  "kernelspec": {
   "display_name": "Python 3 (ipykernel)",
   "language": "python",
   "name": "python3"
  }
 },
 "nbformat": 4,
 "nbformat_minor": 4
}
